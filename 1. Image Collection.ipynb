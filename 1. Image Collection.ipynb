{
 "cells": [
  {
   "cell_type": "markdown",
   "metadata": {},
   "source": [
    "# 1. Import Dependencies"
   ]
  },
  {
   "cell_type": "code",
   "execution_count": 4,
   "metadata": {},
   "outputs": [
    {
     "name": "stdout",
     "output_type": "stream",
     "text": [
      "Requirement already satisfied: opencv-python in d:\\mined and unmined\\tensorflow object detection\\tfodcourse\\tfod\\lib\\site-packages (4.6.0.66)\n",
      "Requirement already satisfied: numpy>=1.14.5 in d:\\mined and unmined\\tensorflow object detection\\tfodcourse\\tfod\\lib\\site-packages (from opencv-python) (1.23.1)\n"
     ]
    }
   ],
   "source": [
    "!pip install opencv-python"
   ]
  },
  {
   "cell_type": "code",
   "execution_count": 9,
   "metadata": {},
   "outputs": [],
   "source": [
    "# Import opencv\n",
    "import cv2 \n",
    "\n",
    "# Import uuid\n",
    "import uuid\n",
    "\n",
    "# Import Operating System\n",
    "import os\n",
    "\n",
    "# Import time\n",
    "import time"
   ]
  },
  {
   "cell_type": "markdown",
   "metadata": {},
   "source": [
    "# 2. Define Images to Collect"
   ]
  },
  {
   "cell_type": "code",
   "execution_count": 10,
   "metadata": {},
   "outputs": [],
   "source": [
    "labels = ['Mined areas', 'Unmined areas']\n",
    "number_imgs = 30"
   ]
  },
  {
   "cell_type": "code",
   "execution_count": 11,
   "metadata": {},
   "outputs": [
    {
     "data": {
      "text/plain": [
       "['Mined areas', 'Unmined areas']"
      ]
     },
     "execution_count": 11,
     "metadata": {},
     "output_type": "execute_result"
    }
   ],
   "source": [
    "labels"
   ]
  },
  {
   "cell_type": "markdown",
   "metadata": {},
   "source": [
    "# 3. Setup Folders "
   ]
  },
  {
   "cell_type": "code",
   "execution_count": 12,
   "metadata": {},
   "outputs": [],
   "source": [
    "IMAGES_PATH = os.path.join('Tensorflow', 'workspace', 'images')"
   ]
  },
  {
   "cell_type": "code",
   "execution_count": 13,
   "metadata": {},
   "outputs": [
    {
     "name": "stdout",
     "output_type": "stream",
     "text": [
      "Tensorflow\\workspace\\images\n"
     ]
    }
   ],
   "source": [
    "print(IMAGES_PATH)"
   ]
  },
  {
   "cell_type": "code",
   "execution_count": 14,
   "metadata": {},
   "outputs": [
    {
     "name": "stderr",
     "output_type": "stream",
     "text": [
      "A subdirectory or file areas already exists.\n",
      "Error occurred while processing: areas.\n",
      "A subdirectory or file areas already exists.\n",
      "Error occurred while processing: areas.\n"
     ]
    }
   ],
   "source": [
    "if not os.path.exists(IMAGES_PATH):\n",
    "    if os.name == 'posix':\n",
    "        !mkdir -p {IMAGES_PATH}\n",
    "    if os.name == 'nt':\n",
    "         !mkdir {IMAGES_PATH}\n",
    "for label in labels:\n",
    "    path = os.path.join(IMAGES_PATH, label)\n",
    "    if not os.path.exists(path):\n",
    "        !mkdir {path}"
   ]
  },
  {
   "cell_type": "markdown",
   "metadata": {},
   "source": [
    "# 4. Capture Images"
   ]
  },
  {
   "cell_type": "code",
   "execution_count": 32,
   "metadata": {},
   "outputs": [
    {
     "name": "stdout",
     "output_type": "stream",
     "text": [
      "collecting images for Mined areas\n",
      "collecting image 0\n",
      "collecting image 1\n",
      "collecting image 2\n",
      "collecting image 3\n",
      "collecting image 4\n",
      "collecting image 5\n",
      "collecting image 6\n",
      "collecting image 7\n",
      "collecting image 8\n",
      "collecting image 9\n",
      "collecting image 10\n",
      "collecting image 11\n",
      "collecting image 12\n",
      "collecting image 13\n",
      "collecting image 14\n",
      "collecting image 15\n",
      "collecting image 16\n",
      "collecting image 17\n",
      "collecting image 18\n",
      "collecting image 19\n",
      "collecting image 20\n",
      "collecting image 21\n",
      "collecting image 22\n",
      "collecting image 23\n",
      "collecting image 24\n",
      "collecting image 25\n",
      "collecting image 26\n",
      "collecting image 27\n",
      "collecting image 28\n",
      "collecting image 29\n",
      "collecting images for Unmined areas\n",
      "collecting image 0\n",
      "collecting image 1\n",
      "collecting image 2\n",
      "collecting image 3\n",
      "collecting image 4\n",
      "collecting image 5\n",
      "collecting image 6\n",
      "collecting image 7\n",
      "collecting image 8\n",
      "collecting image 9\n",
      "collecting image 10\n",
      "collecting image 11\n",
      "collecting image 12\n",
      "collecting image 13\n",
      "collecting image 14\n",
      "collecting image 15\n",
      "collecting image 16\n",
      "collecting image 17\n",
      "collecting image 18\n",
      "collecting image 19\n",
      "collecting image 20\n",
      "collecting image 21\n",
      "collecting image 22\n",
      "collecting image 23\n",
      "collecting image 24\n",
      "collecting image 25\n",
      "collecting image 26\n",
      "collecting image 27\n",
      "collecting image 28\n",
      "collecting image 29\n"
     ]
    }
   ],
   "source": [
    "for label in labels:\n",
    "    cap = cv2.VideoCapture(1)\n",
    "    print('collecting images for {}'.format(label))\n",
    "    time.sleep(5)\n",
    "    for imgnum in range(number_imgs):\n",
    "        print('collecting image {}'.format(imgnum))\n",
    "        ret, frame = cap.read()\n",
    "        imgname = os.path.join(IMAGES_PATH,label,label+'.'+'{}.jpg'.format(str(uuid.uuid1())))\n",
    "        cv2.imwrite(imgname, frame)\n",
    "        cv2.imshow('frame', frame)\n",
    "        time.sleep(2)\n",
    "\n",
    "        if cv2.waitKey(1) & 0xFF == ord('q'):\n",
    "            break\n",
    "cap.release()\n",
    "cv2.destroyAllWindows()"
   ]
  },
  {
   "cell_type": "markdown",
   "metadata": {},
   "source": [
    "# 5. Image Labelling"
   ]
  },
  {
   "cell_type": "code",
   "execution_count": 15,
   "metadata": {},
   "outputs": [
    {
     "name": "stdout",
     "output_type": "stream",
     "text": [
      "Requirement already satisfied: pyqt5 in d:\\mined and unmined\\tensorflow object detection\\tfodcourse\\tfod\\lib\\site-packages (5.15.7)\n",
      "Requirement already satisfied: lxml in d:\\mined and unmined\\tensorflow object detection\\tfodcourse\\tfod\\lib\\site-packages (4.9.1)\n",
      "Requirement already satisfied: PyQt5-sip<13,>=12.11 in d:\\mined and unmined\\tensorflow object detection\\tfodcourse\\tfod\\lib\\site-packages (from pyqt5) (12.11.0)\n",
      "Requirement already satisfied: PyQt5-Qt5>=5.15.0 in d:\\mined and unmined\\tensorflow object detection\\tfodcourse\\tfod\\lib\\site-packages (from pyqt5) (5.15.2)\n"
     ]
    }
   ],
   "source": [
    "!pip install --upgrade pyqt5 lxml"
   ]
  },
  {
   "cell_type": "code",
   "execution_count": 16,
   "metadata": {},
   "outputs": [],
   "source": [
    "LABELIMG_PATH = os.path.join('Tensorflow', 'labelimg')"
   ]
  },
  {
   "cell_type": "code",
   "execution_count": 17,
   "metadata": {},
   "outputs": [],
   "source": [
    "if not os.path.exists(LABELIMG_PATH):\n",
    "    !mkdir {LABELIMG_PATH}\n",
    "    !git clone https://github.com/tzutalin/labelImg {LABELIMG_PATH}"
   ]
  },
  {
   "cell_type": "code",
   "execution_count": 18,
   "metadata": {},
   "outputs": [],
   "source": [
    "if os.name == 'posix':\n",
    "    !cd {LABELIMG_PATH} && make qt5py3\n",
    "if os.name =='nt':\n",
    "    !cd {LABELIMG_PATH} && pyrcc5 -o libs/resources.py resources.qrc"
   ]
  },
  {
   "cell_type": "code",
   "execution_count": 19,
   "metadata": {},
   "outputs": [
    {
     "name": "stdout",
     "output_type": "stream",
     "text": [
      "Cancel creation.\n",
      "Image:D:\\Mined and Unmined\\Tensorflow Object Detection\\TFODCourse\\Tensorflow\\workspace\\images\\Unmined\\DJI_0004.JPG -> Annotation:D:/Mined and Unmined/Tensorflow Object Detection/TFODCourse/Tensorflow/workspace/images/Unmined\\DJI_0004.xml\n",
      "Image:D:\\Mined and Unmined\\Tensorflow Object Detection\\TFODCourse\\Tensorflow\\workspace\\images\\Unmined\\DJI_0005.JPG -> Annotation:D:/Mined and Unmined/Tensorflow Object Detection/TFODCourse/Tensorflow/workspace/images/Unmined\\DJI_0005.xml\n",
      "Image:D:\\Mined and Unmined\\Tensorflow Object Detection\\TFODCourse\\Tensorflow\\workspace\\images\\Unmined\\DJI_0006.JPG -> Annotation:D:/Mined and Unmined/Tensorflow Object Detection/TFODCourse/Tensorflow/workspace/images/Unmined\\DJI_0006.xml\n",
      "Image:D:\\Mined and Unmined\\Tensorflow Object Detection\\TFODCourse\\Tensorflow\\workspace\\images\\Unmined\\DJI_0204.JPG -> Annotation:D:/Mined and Unmined/Tensorflow Object Detection/TFODCourse/Tensorflow/workspace/images/Unmined\\DJI_0204.xml\n",
      "Image:D:\\Mined and Unmined\\Tensorflow Object Detection\\TFODCourse\\Tensorflow\\workspace\\images\\Unmined\\DJI_0204.JPG -> Annotation:D:/Mined and Unmined/Tensorflow Object Detection/TFODCourse/Tensorflow/workspace/images/Unmined\\DJI_0204.xml\n",
      "Image:D:\\Mined and Unmined\\Tensorflow Object Detection\\TFODCourse\\Tensorflow\\workspace\\images\\Unmined\\DJI_0205.JPG -> Annotation:D:/Mined and Unmined/Tensorflow Object Detection/TFODCourse/Tensorflow/workspace/images/Unmined\\DJI_0205.xml\n",
      "Image:D:\\Mined and Unmined\\Tensorflow Object Detection\\TFODCourse\\Tensorflow\\workspace\\images\\Unmined\\DJI_0206.JPG -> Annotation:D:/Mined and Unmined/Tensorflow Object Detection/TFODCourse/Tensorflow/workspace/images/Unmined\\DJI_0206.xml\n",
      "Image:D:\\Mined and Unmined\\Tensorflow Object Detection\\TFODCourse\\Tensorflow\\workspace\\images\\Unmined\\DJI_0207.JPG -> Annotation:D:/Mined and Unmined/Tensorflow Object Detection/TFODCourse/Tensorflow/workspace/images/Unmined\\DJI_0207.xml\n",
      "Image:D:\\Mined and Unmined\\Tensorflow Object Detection\\TFODCourse\\Tensorflow\\workspace\\images\\Unmined\\DJI_0208.JPG -> Annotation:D:/Mined and Unmined/Tensorflow Object Detection/TFODCourse/Tensorflow/workspace/images/Unmined\\DJI_0208.xml\n",
      "Image:D:\\Mined and Unmined\\Tensorflow Object Detection\\TFODCourse\\Tensorflow\\workspace\\images\\Unmined\\DJI_0210.JPG -> Annotation:D:/Mined and Unmined/Tensorflow Object Detection/TFODCourse/Tensorflow/workspace/images/Unmined\\DJI_0210.xml\n",
      "Image:D:\\Mined and Unmined\\Tensorflow Object Detection\\TFODCourse\\Tensorflow\\workspace\\images\\Unmined\\DJI_0211.JPG -> Annotation:D:/Mined and Unmined/Tensorflow Object Detection/TFODCourse/Tensorflow/workspace/images/Unmined\\DJI_0211.xml\n",
      "Image:D:\\Mined and Unmined\\Tensorflow Object Detection\\TFODCourse\\Tensorflow\\workspace\\images\\Unmined\\DJI_0499.JPG -> Annotation:D:/Mined and Unmined/Tensorflow Object Detection/TFODCourse/Tensorflow/workspace/images/Unmined\\DJI_0499.xml\n",
      "Image:D:\\Mined and Unmined\\Tensorflow Object Detection\\TFODCourse\\Tensorflow\\workspace\\images\\Unmined\\DJI_0500.JPG -> Annotation:D:/Mined and Unmined/Tensorflow Object Detection/TFODCourse/Tensorflow/workspace/images/Unmined\\DJI_0500.xml\n",
      "Image:D:\\Mined and Unmined\\Tensorflow Object Detection\\TFODCourse\\Tensorflow\\workspace\\images\\Unmined\\DJI_0523.JPG -> Annotation:D:/Mined and Unmined/Tensorflow Object Detection/TFODCourse/Tensorflow/workspace/images/Unmined\\DJI_0523.xml\n",
      "Image:D:\\Mined and Unmined\\Tensorflow Object Detection\\TFODCourse\\Tensorflow\\workspace\\images\\Unmined\\DJI_0524.JPG -> Annotation:D:/Mined and Unmined/Tensorflow Object Detection/TFODCourse/Tensorflow/workspace/images/Unmined\\DJI_0524.xml\n",
      "Image:D:\\Mined and Unmined\\Tensorflow Object Detection\\TFODCourse\\Tensorflow\\workspace\\images\\Unmined\\DJI_0525.JPG -> Annotation:D:/Mined and Unmined/Tensorflow Object Detection/TFODCourse/Tensorflow/workspace/images/Unmined\\DJI_0525.xml\n",
      "Image:D:\\Mined and Unmined\\Tensorflow Object Detection\\TFODCourse\\Tensorflow\\workspace\\images\\Unmined\\DJI_0525.JPG -> Annotation:D:/Mined and Unmined/Tensorflow Object Detection/TFODCourse/Tensorflow/workspace/images/Unmined\\DJI_0525.xml\n",
      "Image:D:\\Mined and Unmined\\Tensorflow Object Detection\\TFODCourse\\Tensorflow\\workspace\\images\\Unmined\\DJI_0526.JPG -> Annotation:D:/Mined and Unmined/Tensorflow Object Detection/TFODCourse/Tensorflow/workspace/images/Unmined\\DJI_0526.xml\n",
      "Image:D:\\Mined and Unmined\\Tensorflow Object Detection\\TFODCourse\\Tensorflow\\workspace\\images\\Unmined\\DJI_0526.JPG -> Annotation:D:/Mined and Unmined/Tensorflow Object Detection/TFODCourse/Tensorflow/workspace/images/Unmined\\DJI_0526.xml\n",
      "Image:D:\\Mined and Unmined\\Tensorflow Object Detection\\TFODCourse\\Tensorflow\\workspace\\images\\Unmined\\DJI_0527.JPG -> Annotation:D:/Mined and Unmined/Tensorflow Object Detection/TFODCourse/Tensorflow/workspace/images/Unmined\\DJI_0527.xml\n",
      "Image:D:\\Mined and Unmined\\Tensorflow Object Detection\\TFODCourse\\Tensorflow\\workspace\\images\\Unmined\\DJI_0527.JPG -> Annotation:D:/Mined and Unmined/Tensorflow Object Detection/TFODCourse/Tensorflow/workspace/images/Unmined\\DJI_0527.xml\n",
      "Image:D:\\Mined and Unmined\\Tensorflow Object Detection\\TFODCourse\\Tensorflow\\workspace\\images\\Unmined\\DJI_0528.JPG -> Annotation:D:/Mined and Unmined/Tensorflow Object Detection/TFODCourse/Tensorflow/workspace/images/Unmined\\DJI_0528.xml\n",
      "Image:D:\\Mined and Unmined\\Tensorflow Object Detection\\TFODCourse\\Tensorflow\\workspace\\images\\Unmined\\DJI_0531.JPG -> Annotation:D:/Mined and Unmined/Tensorflow Object Detection/TFODCourse/Tensorflow/workspace/images/Unmined\\DJI_0531.xml\n",
      "Image:D:\\Mined and Unmined\\Tensorflow Object Detection\\TFODCourse\\Tensorflow\\workspace\\images\\Unmined\\DJI_0532.JPG -> Annotation:D:/Mined and Unmined/Tensorflow Object Detection/TFODCourse/Tensorflow/workspace/images/Unmined\\DJI_0532.xml\n",
      "Image:D:\\Mined and Unmined\\Tensorflow Object Detection\\TFODCourse\\Tensorflow\\workspace\\images\\Unmined\\DJI_0533.JPG -> Annotation:D:/Mined and Unmined/Tensorflow Object Detection/TFODCourse/Tensorflow/workspace/images/Unmined\\DJI_0533.xml\n",
      "Image:D:\\Mined and Unmined\\Tensorflow Object Detection\\TFODCourse\\Tensorflow\\workspace\\images\\Unmined\\DJI_0602.JPG -> Annotation:D:/Mined and Unmined/Tensorflow Object Detection/TFODCourse/Tensorflow/workspace/images/Unmined\\DJI_0602.xml\n",
      "Image:D:\\Mined and Unmined\\Tensorflow Object Detection\\TFODCourse\\Tensorflow\\workspace\\images\\Unmined\\DJI_0602.JPG -> Annotation:D:/Mined and Unmined/Tensorflow Object Detection/TFODCourse/Tensorflow/workspace/images/Unmined\\DJI_0602.xml\n",
      "Image:D:\\Mined and Unmined\\Tensorflow Object Detection\\TFODCourse\\Tensorflow\\workspace\\images\\Unmined\\DJI_0602.JPG -> Annotation:D:/Mined and Unmined/Tensorflow Object Detection/TFODCourse/Tensorflow/workspace/images/Unmined\\DJI_0602.xml\n",
      "Image:D:\\Mined and Unmined\\Tensorflow Object Detection\\TFODCourse\\Tensorflow\\workspace\\images\\Unmined\\DJI_0603.JPG -> Annotation:D:/Mined and Unmined/Tensorflow Object Detection/TFODCourse/Tensorflow/workspace/images/Unmined\\DJI_0603.xml\n",
      "Image:D:\\Mined and Unmined\\Tensorflow Object Detection\\TFODCourse\\Tensorflow\\workspace\\images\\Unmined\\DJI_0603.JPG -> Annotation:D:/Mined and Unmined/Tensorflow Object Detection/TFODCourse/Tensorflow/workspace/images/Unmined\\DJI_0603.xml\n",
      "Image:D:\\Mined and Unmined\\Tensorflow Object Detection\\TFODCourse\\Tensorflow\\workspace\\images\\Unmined\\DJI_0605.JPG -> Annotation:D:/Mined and Unmined/Tensorflow Object Detection/TFODCourse/Tensorflow/workspace/images/Unmined\\DJI_0605.xml\n",
      "Image:D:\\Mined and Unmined\\Tensorflow Object Detection\\TFODCourse\\Tensorflow\\workspace\\images\\Unmined\\DJI_0919.JPG -> Annotation:D:/Mined and Unmined/Tensorflow Object Detection/TFODCourse/Tensorflow/workspace/images/Unmined\\DJI_0919.xml\n",
      "Image:D:\\Mined and Unmined\\Tensorflow Object Detection\\TFODCourse\\Tensorflow\\workspace\\images\\Unmined\\DJI_0920.JPG -> Annotation:D:/Mined and Unmined/Tensorflow Object Detection/TFODCourse/Tensorflow/workspace/images/Unmined\\DJI_0920.xml\n",
      "Image:D:\\Mined and Unmined\\Tensorflow Object Detection\\TFODCourse\\Tensorflow\\workspace\\images\\Unmined\\DJI_0929.JPG -> Annotation:D:/Mined and Unmined/Tensorflow Object Detection/TFODCourse/Tensorflow/workspace/images/Unmined\\DJI_0929.xml\n",
      "Image:D:\\Mined and Unmined\\Tensorflow Object Detection\\TFODCourse\\Tensorflow\\workspace\\images\\Unmined\\DJI_0934.JPG -> Annotation:D:/Mined and Unmined/Tensorflow Object Detection/TFODCourse/Tensorflow/workspace/images/Unmined\\DJI_0934.xml\n",
      "Image:D:\\Mined and Unmined\\Tensorflow Object Detection\\TFODCourse\\Tensorflow\\workspace\\images\\Unmined\\DJI_0935.JPG -> Annotation:D:/Mined and Unmined/Tensorflow Object Detection/TFODCourse/Tensorflow/workspace/images/Unmined\\DJI_0935.xml\n",
      "Image:D:\\Mined and Unmined\\Tensorflow Object Detection\\TFODCourse\\Tensorflow\\workspace\\images\\Unmined\\DJI_0935.JPG -> Annotation:D:/Mined and Unmined/Tensorflow Object Detection/TFODCourse/Tensorflow/workspace/images/Unmined\\DJI_0935.xml\n",
      "Image:D:\\Mined and Unmined\\Tensorflow Object Detection\\TFODCourse\\Tensorflow\\workspace\\images\\Unmined\\DJI_0936.JPG -> Annotation:D:/Mined and Unmined/Tensorflow Object Detection/TFODCourse/Tensorflow/workspace/images/Unmined\\DJI_0936.xml\n"
     ]
    },
    {
     "name": "stderr",
     "output_type": "stream",
     "text": [
      "Qt: Untested Windows version 10.0 detected!\n",
      "Qt: Untested Windows version 10.0 detected!\n",
      "Qt: Untested Windows version 10.0 detected!\n",
      "Qt: Untested Windows version 10.0 detected!\n",
      "Qt: Untested Windows version 10.0 detected!\n",
      "Qt: Untested Windows version 10.0 detected!\n",
      "Qt: Untested Windows version 10.0 detected!\n",
      "Qt: Untested Windows version 10.0 detected!\n",
      "Qt: Untested Windows version 10.0 detected!\n",
      "Qt: Untested Windows version 10.0 detected!\n",
      "Qt: Untested Windows version 10.0 detected!\n",
      "Qt: Untested Windows version 10.0 detected!\n",
      "Qt: Untested Windows version 10.0 detected!\n",
      "Qt: Untested Windows version 10.0 detected!\n",
      "Qt: Untested Windows version 10.0 detected!\n",
      "Qt: Untested Windows version 10.0 detected!\n",
      "Qt: Untested Windows version 10.0 detected!\n",
      "Qt: Untested Windows version 10.0 detected!\n",
      "Qt: Untested Windows version 10.0 detected!\n",
      "Qt: Untested Windows version 10.0 detected!\n",
      "Qt: Untested Windows version 10.0 detected!\n",
      "Qt: Untested Windows version 10.0 detected!\n",
      "Qt: Untested Windows version 10.0 detected!\n",
      "Qt: Untested Windows version 10.0 detected!\n"
     ]
    }
   ],
   "source": [
    "!cd {LABELIMG_PATH} && python labelImg.py"
   ]
  },
  {
   "cell_type": "markdown",
   "metadata": {},
   "source": [
    "# 6. Move them into a Training and Testing Partition"
   ]
  },
  {
   "cell_type": "markdown",
   "metadata": {},
   "source": [
    "# OPTIONAL - 7. Compress them for Colab Training"
   ]
  },
  {
   "cell_type": "code",
   "execution_count": null,
   "metadata": {},
   "outputs": [],
   "source": [
    "TRAIN_PATH = os.path.join('Tensorflow', 'workspace', 'images', 'train')\n",
    "TEST_PATH = os.path.join('Tensorflow', 'workspace', 'images', 'test')\n",
    "ARCHIVE_PATH = os.path.join('Tensorflow', 'workspace', 'images', 'archive.tar.gz')"
   ]
  },
  {
   "cell_type": "code",
   "execution_count": null,
   "metadata": {},
   "outputs": [],
   "source": [
    "!tar -czf {ARCHIVE_PATH} {TRAIN_PATH} {TEST_PATH}"
   ]
  },
  {
   "cell_type": "code",
   "execution_count": null,
   "metadata": {},
   "outputs": [],
   "source": []
  }
 ],
 "metadata": {
  "kernelspec": {
   "display_name": "tfod",
   "language": "python",
   "name": "tfod"
  },
  "language_info": {
   "codemirror_mode": {
    "name": "ipython",
    "version": 3
   },
   "file_extension": ".py",
   "mimetype": "text/x-python",
   "name": "python",
   "nbconvert_exporter": "python",
   "pygments_lexer": "ipython3",
   "version": "3.9.12"
  }
 },
 "nbformat": 4,
 "nbformat_minor": 2
}
